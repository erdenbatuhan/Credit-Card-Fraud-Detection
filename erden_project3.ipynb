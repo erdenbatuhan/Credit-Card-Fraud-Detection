{
 "cells": [
  {
   "cell_type": "markdown",
   "metadata": {},
   "source": [
    "<hr style=\"border-color: black; border-style: groove;\">\n",
    "<center><h3> CS 452/552 Data Science with Python </h3></center>\n",
    "<center><h3> Project 3 </h3></center>\n",
    "<center><h3> Classification Challange - Credit Card Fraud Detection </h3></center>\n",
    "<center><h3> Batuhan Erden </h3></center>\n",
    "<hr style=\"border-color: black; border-style: groove;\">"
   ]
  },
  {
   "cell_type": "markdown",
   "metadata": {},
   "source": [
    "<h3> Imports </h3>"
   ]
  },
  {
   "cell_type": "code",
   "execution_count": 826,
   "metadata": {
    "collapsed": true
   },
   "outputs": [],
   "source": [
    "import random\n",
    "import numpy as np\n",
    "import pandas as pd\n",
    "\n",
    "from matplotlib import pyplot as plt\n",
    "from sklearn import svm, linear_model, metrics, preprocessing, model_selection, neural_network"
   ]
  },
  {
   "cell_type": "markdown",
   "metadata": {},
   "source": [
    "<h3> Global Constants </h3>"
   ]
  },
  {
   "cell_type": "code",
   "execution_count": 827,
   "metadata": {
    "collapsed": true
   },
   "outputs": [],
   "source": [
    "DATASET_PATH = \"./\""
   ]
  },
  {
   "cell_type": "markdown",
   "metadata": {},
   "source": [
    "<h3> Read dataset from csv </h3>"
   ]
  },
  {
   "cell_type": "code",
   "execution_count": 828,
   "metadata": {
    "scrolled": true
   },
   "outputs": [
    {
     "data": {
      "text/html": [
       "<div>\n",
       "<style>\n",
       "    .dataframe thead tr:only-child th {\n",
       "        text-align: right;\n",
       "    }\n",
       "\n",
       "    .dataframe thead th {\n",
       "        text-align: left;\n",
       "    }\n",
       "\n",
       "    .dataframe tbody tr th {\n",
       "        vertical-align: top;\n",
       "    }\n",
       "</style>\n",
       "<table border=\"1\" class=\"dataframe\">\n",
       "  <thead>\n",
       "    <tr style=\"text-align: right;\">\n",
       "      <th></th>\n",
       "      <th>Time</th>\n",
       "      <th>V1</th>\n",
       "      <th>V2</th>\n",
       "      <th>V3</th>\n",
       "      <th>V4</th>\n",
       "      <th>V5</th>\n",
       "      <th>V6</th>\n",
       "      <th>V7</th>\n",
       "      <th>V8</th>\n",
       "      <th>V9</th>\n",
       "      <th>...</th>\n",
       "      <th>V21</th>\n",
       "      <th>V22</th>\n",
       "      <th>V23</th>\n",
       "      <th>V24</th>\n",
       "      <th>V25</th>\n",
       "      <th>V26</th>\n",
       "      <th>V27</th>\n",
       "      <th>V28</th>\n",
       "      <th>Amount</th>\n",
       "      <th>Fraud</th>\n",
       "    </tr>\n",
       "  </thead>\n",
       "  <tbody>\n",
       "    <tr>\n",
       "      <th>0</th>\n",
       "      <td>0.0</td>\n",
       "      <td>-1.359807</td>\n",
       "      <td>-0.072781</td>\n",
       "      <td>2.536347</td>\n",
       "      <td>1.378155</td>\n",
       "      <td>-0.338321</td>\n",
       "      <td>0.462388</td>\n",
       "      <td>0.239599</td>\n",
       "      <td>0.098698</td>\n",
       "      <td>0.363787</td>\n",
       "      <td>...</td>\n",
       "      <td>-0.018307</td>\n",
       "      <td>0.277838</td>\n",
       "      <td>-0.110474</td>\n",
       "      <td>0.066928</td>\n",
       "      <td>0.128539</td>\n",
       "      <td>-0.189115</td>\n",
       "      <td>0.133558</td>\n",
       "      <td>-0.021053</td>\n",
       "      <td>149.62</td>\n",
       "      <td>0</td>\n",
       "    </tr>\n",
       "    <tr>\n",
       "      <th>1</th>\n",
       "      <td>0.0</td>\n",
       "      <td>1.191857</td>\n",
       "      <td>0.266151</td>\n",
       "      <td>0.166480</td>\n",
       "      <td>0.448154</td>\n",
       "      <td>0.060018</td>\n",
       "      <td>-0.082361</td>\n",
       "      <td>-0.078803</td>\n",
       "      <td>0.085102</td>\n",
       "      <td>-0.255425</td>\n",
       "      <td>...</td>\n",
       "      <td>-0.225775</td>\n",
       "      <td>-0.638672</td>\n",
       "      <td>0.101288</td>\n",
       "      <td>-0.339846</td>\n",
       "      <td>0.167170</td>\n",
       "      <td>0.125895</td>\n",
       "      <td>-0.008983</td>\n",
       "      <td>0.014724</td>\n",
       "      <td>2.69</td>\n",
       "      <td>0</td>\n",
       "    </tr>\n",
       "    <tr>\n",
       "      <th>2</th>\n",
       "      <td>1.0</td>\n",
       "      <td>-1.358354</td>\n",
       "      <td>-1.340163</td>\n",
       "      <td>1.773209</td>\n",
       "      <td>0.379780</td>\n",
       "      <td>-0.503198</td>\n",
       "      <td>1.800499</td>\n",
       "      <td>0.791461</td>\n",
       "      <td>0.247676</td>\n",
       "      <td>-1.514654</td>\n",
       "      <td>...</td>\n",
       "      <td>0.247998</td>\n",
       "      <td>0.771679</td>\n",
       "      <td>0.909412</td>\n",
       "      <td>-0.689281</td>\n",
       "      <td>-0.327642</td>\n",
       "      <td>-0.139097</td>\n",
       "      <td>-0.055353</td>\n",
       "      <td>-0.059752</td>\n",
       "      <td>378.66</td>\n",
       "      <td>0</td>\n",
       "    </tr>\n",
       "    <tr>\n",
       "      <th>3</th>\n",
       "      <td>1.0</td>\n",
       "      <td>-0.966272</td>\n",
       "      <td>-0.185226</td>\n",
       "      <td>1.792993</td>\n",
       "      <td>-0.863291</td>\n",
       "      <td>-0.010309</td>\n",
       "      <td>1.247203</td>\n",
       "      <td>0.237609</td>\n",
       "      <td>0.377436</td>\n",
       "      <td>-1.387024</td>\n",
       "      <td>...</td>\n",
       "      <td>-0.108300</td>\n",
       "      <td>0.005274</td>\n",
       "      <td>-0.190321</td>\n",
       "      <td>-1.175575</td>\n",
       "      <td>0.647376</td>\n",
       "      <td>-0.221929</td>\n",
       "      <td>0.062723</td>\n",
       "      <td>0.061458</td>\n",
       "      <td>123.50</td>\n",
       "      <td>0</td>\n",
       "    </tr>\n",
       "    <tr>\n",
       "      <th>4</th>\n",
       "      <td>2.0</td>\n",
       "      <td>-1.158233</td>\n",
       "      <td>0.877737</td>\n",
       "      <td>1.548718</td>\n",
       "      <td>0.403034</td>\n",
       "      <td>-0.407193</td>\n",
       "      <td>0.095921</td>\n",
       "      <td>0.592941</td>\n",
       "      <td>-0.270533</td>\n",
       "      <td>0.817739</td>\n",
       "      <td>...</td>\n",
       "      <td>-0.009431</td>\n",
       "      <td>0.798278</td>\n",
       "      <td>-0.137458</td>\n",
       "      <td>0.141267</td>\n",
       "      <td>-0.206010</td>\n",
       "      <td>0.502292</td>\n",
       "      <td>0.219422</td>\n",
       "      <td>0.215153</td>\n",
       "      <td>69.99</td>\n",
       "      <td>0</td>\n",
       "    </tr>\n",
       "  </tbody>\n",
       "</table>\n",
       "<p>5 rows × 31 columns</p>\n",
       "</div>"
      ],
      "text/plain": [
       "   Time        V1        V2        V3        V4        V5        V6        V7  \\\n",
       "0   0.0 -1.359807 -0.072781  2.536347  1.378155 -0.338321  0.462388  0.239599   \n",
       "1   0.0  1.191857  0.266151  0.166480  0.448154  0.060018 -0.082361 -0.078803   \n",
       "2   1.0 -1.358354 -1.340163  1.773209  0.379780 -0.503198  1.800499  0.791461   \n",
       "3   1.0 -0.966272 -0.185226  1.792993 -0.863291 -0.010309  1.247203  0.237609   \n",
       "4   2.0 -1.158233  0.877737  1.548718  0.403034 -0.407193  0.095921  0.592941   \n",
       "\n",
       "         V8        V9  ...         V21       V22       V23       V24  \\\n",
       "0  0.098698  0.363787  ...   -0.018307  0.277838 -0.110474  0.066928   \n",
       "1  0.085102 -0.255425  ...   -0.225775 -0.638672  0.101288 -0.339846   \n",
       "2  0.247676 -1.514654  ...    0.247998  0.771679  0.909412 -0.689281   \n",
       "3  0.377436 -1.387024  ...   -0.108300  0.005274 -0.190321 -1.175575   \n",
       "4 -0.270533  0.817739  ...   -0.009431  0.798278 -0.137458  0.141267   \n",
       "\n",
       "        V25       V26       V27       V28  Amount  Fraud  \n",
       "0  0.128539 -0.189115  0.133558 -0.021053  149.62      0  \n",
       "1  0.167170  0.125895 -0.008983  0.014724    2.69      0  \n",
       "2 -0.327642 -0.139097 -0.055353 -0.059752  378.66      0  \n",
       "3  0.647376 -0.221929  0.062723  0.061458  123.50      0  \n",
       "4 -0.206010  0.502292  0.219422  0.215153   69.99      0  \n",
       "\n",
       "[5 rows x 31 columns]"
      ]
     },
     "execution_count": 828,
     "metadata": {},
     "output_type": "execute_result"
    }
   ],
   "source": [
    "dataset = pd.read_csv(DATASET_PATH + \"creditcard.csv\")\n",
    "dataset = dataset.rename(columns={\"Class\": \"Fraud\"})  # Rename feature 'Class' to 'Fraud'\n",
    "\n",
    "dataset.head()"
   ]
  },
  {
   "cell_type": "markdown",
   "metadata": {},
   "source": [
    "<h3> Plot to see how unbalanced the data is </h3>"
   ]
  },
  {
   "cell_type": "code",
   "execution_count": 829,
   "metadata": {},
   "outputs": [
    {
     "name": "stdout",
     "output_type": "stream",
     "text": [
      "492 frauds out of 284807 transactions which is 0.1727% percent of all transactions..\n"
     ]
    },
    {
     "data": {
      "image/png": "[encoded data removed]",
      "text/plain": [
       "<matplotlib.figure.Figure at 0x1189081d0>"
      ]
     },
     "metadata": {},
     "output_type": "display_data"
    }
   ],
   "source": [
    "# Calculate\n",
    "fraud_column_counts = dataset.Fraud.value_counts()\n",
    "\n",
    "num_fraud = fraud_column_counts[1]\n",
    "num_transactions = sum(fraud_column_counts)\n",
    "\n",
    "print(\"{} frauds out of {} transactions which is {:.4f}% percent of all transactions..\".\n",
    "      format(num_fraud, num_transactions, num_fraud / num_transactions * 100))\n",
    "\n",
    "# Plot\n",
    "plt.title(\"Histogram to show that the data is unbalanced\")\n",
    "plt.ylabel('Number of transactions')\n",
    "\n",
    "plt.xticks([0, 1], [\"Normal\", \"Fraud\"])\n",
    "plt.bar([0, 1], [num_transactions - num_fraud, num_fraud], align=\"center\", alpha=0.5)\n",
    " \n",
    "plt.show()"
   ]
  },
  {
   "cell_type": "markdown",
   "metadata": {},
   "source": [
    "<h3> Ignore features that have almost no effect on the frauds </h3>"
   ]
  },
  {
   "cell_type": "code",
   "execution_count": 830,
   "metadata": {},
   "outputs": [
    {
     "name": "stdout",
     "output_type": "stream",
     "text": [
      "Features to be ignored: ['Time', 'V8', 'V13', 'V15', 'V20', 'V22', 'V23', 'V24', 'V25', 'V26', 'V27', 'V28']\n"
     ]
    },
    {
     "data": {
      "text/html": [
       "<div>\n",
       "<style>\n",
       "    .dataframe thead tr:only-child th {\n",
       "        text-align: right;\n",
       "    }\n",
       "\n",
       "    .dataframe thead th {\n",
       "        text-align: left;\n",
       "    }\n",
       "\n",
       "    .dataframe tbody tr th {\n",
       "        vertical-align: top;\n",
       "    }\n",
       "</style>\n",
       "<table border=\"1\" class=\"dataframe\">\n",
       "  <thead>\n",
       "    <tr style=\"text-align: right;\">\n",
       "      <th></th>\n",
       "      <th>V1</th>\n",
       "      <th>V2</th>\n",
       "      <th>V3</th>\n",
       "      <th>V4</th>\n",
       "      <th>V5</th>\n",
       "      <th>V6</th>\n",
       "      <th>V7</th>\n",
       "      <th>V9</th>\n",
       "      <th>V10</th>\n",
       "      <th>V11</th>\n",
       "      <th>V12</th>\n",
       "      <th>V14</th>\n",
       "      <th>V16</th>\n",
       "      <th>V17</th>\n",
       "      <th>V18</th>\n",
       "      <th>V19</th>\n",
       "      <th>V21</th>\n",
       "      <th>Amount</th>\n",
       "      <th>Fraud</th>\n",
       "    </tr>\n",
       "  </thead>\n",
       "  <tbody>\n",
       "    <tr>\n",
       "      <th>0</th>\n",
       "      <td>-1.359807</td>\n",
       "      <td>-0.072781</td>\n",
       "      <td>2.536347</td>\n",
       "      <td>1.378155</td>\n",
       "      <td>-0.338321</td>\n",
       "      <td>0.462388</td>\n",
       "      <td>0.239599</td>\n",
       "      <td>0.363787</td>\n",
       "      <td>0.090794</td>\n",
       "      <td>-0.551600</td>\n",
       "      <td>-0.617801</td>\n",
       "      <td>-0.311169</td>\n",
       "      <td>-0.470401</td>\n",
       "      <td>0.207971</td>\n",
       "      <td>0.025791</td>\n",
       "      <td>0.403993</td>\n",
       "      <td>-0.018307</td>\n",
       "      <td>149.62</td>\n",
       "      <td>0</td>\n",
       "    </tr>\n",
       "    <tr>\n",
       "      <th>1</th>\n",
       "      <td>1.191857</td>\n",
       "      <td>0.266151</td>\n",
       "      <td>0.166480</td>\n",
       "      <td>0.448154</td>\n",
       "      <td>0.060018</td>\n",
       "      <td>-0.082361</td>\n",
       "      <td>-0.078803</td>\n",
       "      <td>-0.255425</td>\n",
       "      <td>-0.166974</td>\n",
       "      <td>1.612727</td>\n",
       "      <td>1.065235</td>\n",
       "      <td>-0.143772</td>\n",
       "      <td>0.463917</td>\n",
       "      <td>-0.114805</td>\n",
       "      <td>-0.183361</td>\n",
       "      <td>-0.145783</td>\n",
       "      <td>-0.225775</td>\n",
       "      <td>2.69</td>\n",
       "      <td>0</td>\n",
       "    </tr>\n",
       "    <tr>\n",
       "      <th>2</th>\n",
       "      <td>-1.358354</td>\n",
       "      <td>-1.340163</td>\n",
       "      <td>1.773209</td>\n",
       "      <td>0.379780</td>\n",
       "      <td>-0.503198</td>\n",
       "      <td>1.800499</td>\n",
       "      <td>0.791461</td>\n",
       "      <td>-1.514654</td>\n",
       "      <td>0.207643</td>\n",
       "      <td>0.624501</td>\n",
       "      <td>0.066084</td>\n",
       "      <td>-0.165946</td>\n",
       "      <td>-2.890083</td>\n",
       "      <td>1.109969</td>\n",
       "      <td>-0.121359</td>\n",
       "      <td>-2.261857</td>\n",
       "      <td>0.247998</td>\n",
       "      <td>378.66</td>\n",
       "      <td>0</td>\n",
       "    </tr>\n",
       "    <tr>\n",
       "      <th>3</th>\n",
       "      <td>-0.966272</td>\n",
       "      <td>-0.185226</td>\n",
       "      <td>1.792993</td>\n",
       "      <td>-0.863291</td>\n",
       "      <td>-0.010309</td>\n",
       "      <td>1.247203</td>\n",
       "      <td>0.237609</td>\n",
       "      <td>-1.387024</td>\n",
       "      <td>-0.054952</td>\n",
       "      <td>-0.226487</td>\n",
       "      <td>0.178228</td>\n",
       "      <td>-0.287924</td>\n",
       "      <td>-1.059647</td>\n",
       "      <td>-0.684093</td>\n",
       "      <td>1.965775</td>\n",
       "      <td>-1.232622</td>\n",
       "      <td>-0.108300</td>\n",
       "      <td>123.50</td>\n",
       "      <td>0</td>\n",
       "    </tr>\n",
       "    <tr>\n",
       "      <th>4</th>\n",
       "      <td>-1.158233</td>\n",
       "      <td>0.877737</td>\n",
       "      <td>1.548718</td>\n",
       "      <td>0.403034</td>\n",
       "      <td>-0.407193</td>\n",
       "      <td>0.095921</td>\n",
       "      <td>0.592941</td>\n",
       "      <td>0.817739</td>\n",
       "      <td>0.753074</td>\n",
       "      <td>-0.822843</td>\n",
       "      <td>0.538196</td>\n",
       "      <td>-1.119670</td>\n",
       "      <td>-0.451449</td>\n",
       "      <td>-0.237033</td>\n",
       "      <td>-0.038195</td>\n",
       "      <td>0.803487</td>\n",
       "      <td>-0.009431</td>\n",
       "      <td>69.99</td>\n",
       "      <td>0</td>\n",
       "    </tr>\n",
       "  </tbody>\n",
       "</table>\n",
       "</div>"
      ],
      "text/plain": [
       "         V1        V2        V3        V4        V5        V6        V7  \\\n",
       "0 -1.359807 -0.072781  2.536347  1.378155 -0.338321  0.462388  0.239599   \n",
       "1  1.191857  0.266151  0.166480  0.448154  0.060018 -0.082361 -0.078803   \n",
       "2 -1.358354 -1.340163  1.773209  0.379780 -0.503198  1.800499  0.791461   \n",
       "3 -0.966272 -0.185226  1.792993 -0.863291 -0.010309  1.247203  0.237609   \n",
       "4 -1.158233  0.877737  1.548718  0.403034 -0.407193  0.095921  0.592941   \n",
       "\n",
       "         V9       V10       V11       V12       V14       V16       V17  \\\n",
       "0  0.363787  0.090794 -0.551600 -0.617801 -0.311169 -0.470401  0.207971   \n",
       "1 -0.255425 -0.166974  1.612727  1.065235 -0.143772  0.463917 -0.114805   \n",
       "2 -1.514654  0.207643  0.624501  0.066084 -0.165946 -2.890083  1.109969   \n",
       "3 -1.387024 -0.054952 -0.226487  0.178228 -0.287924 -1.059647 -0.684093   \n",
       "4  0.817739  0.753074 -0.822843  0.538196 -1.119670 -0.451449 -0.237033   \n",
       "\n",
       "        V18       V19       V21  Amount  Fraud  \n",
       "0  0.025791  0.403993 -0.018307  149.62      0  \n",
       "1 -0.183361 -0.145783 -0.225775    2.69      0  \n",
       "2 -0.121359 -2.261857  0.247998  378.66      0  \n",
       "3  1.965775 -1.232622 -0.108300  123.50      0  \n",
       "4 -0.038195  0.803487 -0.009431   69.99      0  "
      ]
     },
     "execution_count": 830,
     "metadata": {},
     "output_type": "execute_result"
    }
   ],
   "source": [
    "mean_threshold = 0.6\n",
    "\n",
    "v_features = dataset.iloc[:, 1:29].columns\n",
    "v_features_to_drop = [\"Time\"]\n",
    "\n",
    "for v_feature in v_features:\n",
    "    mean_fraud = np.mean(dataset[v_feature][dataset[\"Fraud\"] == 1])\n",
    "    \n",
    "    if -mean_threshold <= mean_fraud <= mean_threshold:\n",
    "        v_features_to_drop.append(v_feature)\n",
    "\n",
    "dataset = dataset.drop(v_features_to_drop, axis=1)\n",
    "\n",
    "print(\"Features to be ignored: %a\" % v_features_to_drop)\n",
    "dataset.head()"
   ]
  },
  {
   "cell_type": "markdown",
   "metadata": {},
   "source": [
    "<h3> Normalize amounts </h3>"
   ]
  },
  {
   "cell_type": "code",
   "execution_count": 831,
   "metadata": {},
   "outputs": [
    {
     "data": {
      "text/html": [
       "<div>\n",
       "<style>\n",
       "    .dataframe thead tr:only-child th {\n",
       "        text-align: right;\n",
       "    }\n",
       "\n",
       "    .dataframe thead th {\n",
       "        text-align: left;\n",
       "    }\n",
       "\n",
       "    .dataframe tbody tr th {\n",
       "        vertical-align: top;\n",
       "    }\n",
       "</style>\n",
       "<table border=\"1\" class=\"dataframe\">\n",
       "  <thead>\n",
       "    <tr style=\"text-align: right;\">\n",
       "      <th></th>\n",
       "      <th>Amount</th>\n",
       "    </tr>\n",
       "  </thead>\n",
       "  <tbody>\n",
       "    <tr>\n",
       "      <th>0</th>\n",
       "      <td>0.244964</td>\n",
       "    </tr>\n",
       "    <tr>\n",
       "      <th>1</th>\n",
       "      <td>-0.342475</td>\n",
       "    </tr>\n",
       "    <tr>\n",
       "      <th>2</th>\n",
       "      <td>1.160686</td>\n",
       "    </tr>\n",
       "    <tr>\n",
       "      <th>3</th>\n",
       "      <td>0.140534</td>\n",
       "    </tr>\n",
       "    <tr>\n",
       "      <th>4</th>\n",
       "      <td>-0.073403</td>\n",
       "    </tr>\n",
       "  </tbody>\n",
       "</table>\n",
       "</div>"
      ],
      "text/plain": [
       "     Amount\n",
       "0  0.244964\n",
       "1 -0.342475\n",
       "2  1.160686\n",
       "3  0.140534\n",
       "4 -0.073403"
      ]
     },
     "execution_count": 831,
     "metadata": {},
     "output_type": "execute_result"
    }
   ],
   "source": [
    "dataset[\"Amount\"] = preprocessing.StandardScaler().fit_transform(dataset[\"Amount\"].values.reshape(-1, 1))\n",
    "dataset.iloc[:, dataset.columns == \"Amount\"].head()"
   ]
  },
  {
   "cell_type": "markdown",
   "metadata": {},
   "source": [
    "<h3> Minimize and shuffle the dataset </h3>"
   ]
  },
  {
   "cell_type": "code",
   "execution_count": 864,
   "metadata": {},
   "outputs": [
    {
     "name": "stdout",
     "output_type": "stream",
     "text": [
      "Safe == Fraudulent? --> True\n"
     ]
    },
    {
     "data": {
      "text/html": [
       "<div>\n",
       "<style>\n",
       "    .dataframe thead tr:only-child th {\n",
       "        text-align: right;\n",
       "    }\n",
       "\n",
       "    .dataframe thead th {\n",
       "        text-align: left;\n",
       "    }\n",
       "\n",
       "    .dataframe tbody tr th {\n",
       "        vertical-align: top;\n",
       "    }\n",
       "</style>\n",
       "<table border=\"1\" class=\"dataframe\">\n",
       "  <thead>\n",
       "    <tr style=\"text-align: right;\">\n",
       "      <th></th>\n",
       "      <th>V1</th>\n",
       "      <th>V2</th>\n",
       "      <th>V3</th>\n",
       "      <th>V4</th>\n",
       "      <th>V5</th>\n",
       "      <th>V6</th>\n",
       "      <th>V7</th>\n",
       "      <th>V9</th>\n",
       "      <th>V10</th>\n",
       "      <th>V11</th>\n",
       "      <th>V12</th>\n",
       "      <th>V14</th>\n",
       "      <th>V16</th>\n",
       "      <th>V17</th>\n",
       "      <th>V18</th>\n",
       "      <th>V19</th>\n",
       "      <th>V21</th>\n",
       "      <th>Amount</th>\n",
       "      <th>Fraud</th>\n",
       "    </tr>\n",
       "  </thead>\n",
       "  <tbody>\n",
       "    <tr>\n",
       "      <th>214662</th>\n",
       "      <td>0.467992</td>\n",
       "      <td>1.100118</td>\n",
       "      <td>-5.607145</td>\n",
       "      <td>2.204714</td>\n",
       "      <td>-0.578539</td>\n",
       "      <td>-0.174200</td>\n",
       "      <td>-3.454201</td>\n",
       "      <td>-1.065016</td>\n",
       "      <td>-5.416037</td>\n",
       "      <td>4.497929</td>\n",
       "      <td>-5.019610</td>\n",
       "      <td>-7.914989</td>\n",
       "      <td>-4.472014</td>\n",
       "      <td>-5.856998</td>\n",
       "      <td>-2.243178</td>\n",
       "      <td>-0.173814</td>\n",
       "      <td>0.983481</td>\n",
       "      <td>0.128700</td>\n",
       "      <td>1</td>\n",
       "    </tr>\n",
       "    <tr>\n",
       "      <th>80427</th>\n",
       "      <td>-1.519120</td>\n",
       "      <td>3.424339</td>\n",
       "      <td>-3.540469</td>\n",
       "      <td>1.669922</td>\n",
       "      <td>-0.448989</td>\n",
       "      <td>-1.676307</td>\n",
       "      <td>-0.807759</td>\n",
       "      <td>-0.471705</td>\n",
       "      <td>-1.147762</td>\n",
       "      <td>0.771071</td>\n",
       "      <td>0.494893</td>\n",
       "      <td>-2.480540</td>\n",
       "      <td>0.861134</td>\n",
       "      <td>3.909449</td>\n",
       "      <td>1.026224</td>\n",
       "      <td>-1.022979</td>\n",
       "      <td>0.749636</td>\n",
       "      <td>-0.323004</td>\n",
       "      <td>0</td>\n",
       "    </tr>\n",
       "    <tr>\n",
       "      <th>157585</th>\n",
       "      <td>1.934946</td>\n",
       "      <td>0.650678</td>\n",
       "      <td>-0.286957</td>\n",
       "      <td>3.987828</td>\n",
       "      <td>0.316052</td>\n",
       "      <td>-0.099449</td>\n",
       "      <td>-0.021483</td>\n",
       "      <td>0.508730</td>\n",
       "      <td>1.072955</td>\n",
       "      <td>-0.427567</td>\n",
       "      <td>-2.777649</td>\n",
       "      <td>1.571080</td>\n",
       "      <td>0.908650</td>\n",
       "      <td>-0.122016</td>\n",
       "      <td>-0.104110</td>\n",
       "      <td>-1.684022</td>\n",
       "      <td>-0.173602</td>\n",
       "      <td>-0.349231</td>\n",
       "      <td>1</td>\n",
       "    </tr>\n",
       "    <tr>\n",
       "      <th>150662</th>\n",
       "      <td>-5.839192</td>\n",
       "      <td>7.151532</td>\n",
       "      <td>-12.816760</td>\n",
       "      <td>7.031115</td>\n",
       "      <td>-9.651272</td>\n",
       "      <td>-2.938427</td>\n",
       "      <td>-11.543207</td>\n",
       "      <td>-3.494276</td>\n",
       "      <td>-13.320789</td>\n",
       "      <td>8.460244</td>\n",
       "      <td>-17.003289</td>\n",
       "      <td>-14.094452</td>\n",
       "      <td>-12.661696</td>\n",
       "      <td>-18.912494</td>\n",
       "      <td>-6.626975</td>\n",
       "      <td>4.008921</td>\n",
       "      <td>2.462056</td>\n",
       "      <td>0.910406</td>\n",
       "      <td>1</td>\n",
       "    </tr>\n",
       "    <tr>\n",
       "      <th>150687</th>\n",
       "      <td>-10.300820</td>\n",
       "      <td>6.483095</td>\n",
       "      <td>-15.076363</td>\n",
       "      <td>6.554191</td>\n",
       "      <td>-8.880252</td>\n",
       "      <td>-4.471672</td>\n",
       "      <td>-14.900689</td>\n",
       "      <td>-4.358441</td>\n",
       "      <td>-14.533162</td>\n",
       "      <td>7.588741</td>\n",
       "      <td>-15.835719</td>\n",
       "      <td>-11.567006</td>\n",
       "      <td>-11.467430</td>\n",
       "      <td>-19.172996</td>\n",
       "      <td>-6.969856</td>\n",
       "      <td>2.211756</td>\n",
       "      <td>1.508748</td>\n",
       "      <td>-0.349231</td>\n",
       "      <td>1</td>\n",
       "    </tr>\n",
       "  </tbody>\n",
       "</table>\n",
       "</div>"
      ],
      "text/plain": [
       "               V1        V2         V3        V4        V5        V6  \\\n",
       "214662   0.467992  1.100118  -5.607145  2.204714 -0.578539 -0.174200   \n",
       "80427   -1.519120  3.424339  -3.540469  1.669922 -0.448989 -1.676307   \n",
       "157585   1.934946  0.650678  -0.286957  3.987828  0.316052 -0.099449   \n",
       "150662  -5.839192  7.151532 -12.816760  7.031115 -9.651272 -2.938427   \n",
       "150687 -10.300820  6.483095 -15.076363  6.554191 -8.880252 -4.471672   \n",
       "\n",
       "               V7        V9        V10       V11        V12        V14  \\\n",
       "214662  -3.454201 -1.065016  -5.416037  4.497929  -5.019610  -7.914989   \n",
       "80427   -0.807759 -0.471705  -1.147762  0.771071   0.494893  -2.480540   \n",
       "157585  -0.021483  0.508730   1.072955 -0.427567  -2.777649   1.571080   \n",
       "150662 -11.543207 -3.494276 -13.320789  8.460244 -17.003289 -14.094452   \n",
       "150687 -14.900689 -4.358441 -14.533162  7.588741 -15.835719 -11.567006   \n",
       "\n",
       "              V16        V17       V18       V19       V21    Amount  Fraud  \n",
       "214662  -4.472014  -5.856998 -2.243178 -0.173814  0.983481  0.128700      1  \n",
       "80427    0.861134   3.909449  1.026224 -1.022979  0.749636 -0.323004      0  \n",
       "157585   0.908650  -0.122016 -0.104110 -1.684022 -0.173602 -0.349231      1  \n",
       "150662 -12.661696 -18.912494 -6.626975  4.008921  2.462056  0.910406      1  \n",
       "150687 -11.467430 -19.172996 -6.969856  2.211756  1.508748 -0.349231      1  "
      ]
     },
     "execution_count": 864,
     "metadata": {},
     "output_type": "execute_result"
    }
   ],
   "source": [
    "safe_transactions = dataset[dataset[\"Fraud\"] == 0]\n",
    "fraudulent_transactions = dataset[dataset[\"Fraud\"] == 1]\n",
    "\n",
    "random_safe_transactions = safe_transactions.sample(n=len(fraudulent_transactions))\n",
    "\n",
    "data_minimized = pd.concat(([fraudulent_transactions, random_safe_transactions]), axis=0)\n",
    "data_minimized = data_minimized.sample(frac=1)  # Shuffle the dataset\n",
    "\n",
    "print(\"Safe == Fraudulent? --> {}\".format(len(data_minimized) / 2 == len(fraudulent_transactions)))\n",
    "data_minimized.head()"
   ]
  },
  {
   "cell_type": "markdown",
   "metadata": {},
   "source": [
    "<h3> Prepare inputs and labels </h3>"
   ]
  },
  {
   "cell_type": "code",
   "execution_count": 833,
   "metadata": {
    "collapsed": true
   },
   "outputs": [],
   "source": [
    "def get_inputs_and_labels(data):\n",
    "    inputs = data.iloc[:, data.columns != \"Fraud\"]\n",
    "    labels = data.iloc[:, data.columns == \"Fraud\"]\n",
    "\n",
    "    inputs = np.array(inputs)\n",
    "    labels = np.array(labels).flatten()\n",
    "    \n",
    "    return inputs, labels\n",
    "    \n",
    "mini_X, mini_y = get_inputs_and_labels(data_minimized)\n",
    "X, y = get_inputs_and_labels(dataset)\n",
    "\n",
    "mini_X_train, mini_X_test, mini_y_train, mini_y_test = model_selection.train_test_split(\n",
    "    mini_X, mini_y, test_size=.3, random_state=0)\n",
    "X_train, X_test, y_train, y_test = model_selection.train_test_split(X, y, test_size=.3, random_state=0)"
   ]
  },
  {
   "cell_type": "markdown",
   "metadata": {},
   "source": [
    "<h3> Test the performance of the dataset using K-Fold Cross Validation </h3>"
   ]
  },
  {
   "cell_type": "code",
   "execution_count": 847,
   "metadata": {
    "collapsed": true
   },
   "outputs": [],
   "source": [
    "def test_using_kfold(n_splits, classifier, X, y):\n",
    "    kfold = model_selection.KFold(n_splits=5, shuffle=False)\n",
    "    scores = []\n",
    "\n",
    "    # Test\n",
    "    for train_index, test_index in kfold.split(X):\n",
    "        classifier.fit(X[train_index], y[train_index])\n",
    "        score = classifier.score(X[test_index], y[test_index])\n",
    "\n",
    "        scores.append(score)\n",
    "        print(\"....\", end=\"....\")\n",
    "    \n",
    "    # Print the average score\n",
    "    print(\"\\n- Average Score of {:d}-Fold Cross Validation: {:.2f}%\".format(n_splits, np.mean(scores) * 100))"
   ]
  },
  {
   "cell_type": "markdown",
   "metadata": {},
   "source": [
    "<h3> Calculate Confusion Matrix </h3>"
   ]
  },
  {
   "cell_type": "code",
   "execution_count": 850,
   "metadata": {
    "collapsed": true
   },
   "outputs": [],
   "source": [
    "def compute_confusion_matrix(classifier, test, predictions):\n",
    "    np.set_printoptions(precision=4)\n",
    "    confusion_matrix = metrics.confusion_matrix(test, predictions)\n",
    "    \n",
    "    # Print Confusion Matrix\n",
    "    print(\"- Confusion Matrix:\")\n",
    "    print(confusion_matrix)\n",
    "    \n",
    "    # Print Normalized Confusion Matrix\n",
    "    confusion_matrix_normalized = confusion_matrix.astype('float') / confusion_matrix.sum(axis=1)[:, np.newaxis]\n",
    "    print(\"- Normalized Confusion Matrix:\")\n",
    "    print(confusion_matrix_normalized)\n",
    "    \n",
    "    # Print the prediction accuracy of fraudulent transactions\n",
    "    print(\"- Prediction accuracy of fraudulent transactions (Recall Accuracy): {:.2f}%\"\n",
    "          .format(confusion_matrix_normalized[1, 1] * 100))"
   ]
  },
  {
   "cell_type": "markdown",
   "metadata": {},
   "source": [
    "<h3> Classifier 1: LogisticRegression </h3>"
   ]
  },
  {
   "cell_type": "markdown",
   "metadata": {},
   "source": [
    "<li> Test the mini data in which # of safe transactions and # of fraudulent transactions is equal (The data is balanced) </li>\n",
    "<li> Test for both L1 & L2 Regularization </li>"
   ]
  },
  {
   "cell_type": "code",
   "execution_count": 856,
   "metadata": {
    "scrolled": false
   },
   "outputs": [
    {
     "name": "stdout",
     "output_type": "stream",
     "text": [
      "LogisticRegression (L1 Regularization)\n",
      "........................................\n",
      "- Average Score of 5-Fold Cross Validation: 76.63%\n",
      "- Confusion Matrix:\n",
      "[[ 89  62]\n",
      " [  9 136]]\n",
      "- Normalized Confusion Matrix:\n",
      "[[ 0.5894  0.4106]\n",
      " [ 0.0621  0.9379]]\n",
      "- Prediction accuracy of fraudulent transactions (Recall Accuracy): 93.79%\n",
      "\n",
      "LogisticRegression (L2 Regularization)\n",
      "........................................\n",
      "- Average Score of 5-Fold Cross Validation: 89.33%\n",
      "- Confusion Matrix:\n",
      "[[127  24]\n",
      " [  8 137]]\n",
      "- Normalized Confusion Matrix:\n",
      "[[ 0.8411  0.1589]\n",
      " [ 0.0552  0.9448]]\n",
      "- Prediction accuracy of fraudulent transactions (Recall Accuracy): 94.48%\n",
      "\n"
     ]
    }
   ],
   "source": [
    "for regularization in zip([\"L1\", \"L2\"], [\"Regularization\"] * 2):\n",
    "    print(\"LogisticRegression (%s %s)\" % (regularization[0], regularization[1]))\n",
    "    \n",
    "    classifier = linear_model.LogisticRegression(C=.001, penalty=regularization[0].lower())\n",
    "    test_using_kfold(5, classifier, mini_X, mini_y)\n",
    "    \n",
    "    classifier.fit(mini_X_train, mini_y_train)\n",
    "    mini_predictions = classifier.predict(mini_X_test)\n",
    "    \n",
    "    compute_confusion_matrix(classifier, mini_y_test, mini_predictions)\n",
    "    print()"
   ]
  },
  {
   "cell_type": "markdown",
   "metadata": {},
   "source": [
    "<li> Test the actual data (The data is unbalanced) </li>\n",
    "<li> Test for both L1 & L2 Regularization </li>"
   ]
  },
  {
   "cell_type": "code",
   "execution_count": 857,
   "metadata": {
    "scrolled": false
   },
   "outputs": [
    {
     "name": "stdout",
     "output_type": "stream",
     "text": [
      "LogisticRegression (L1 Regularization)\n",
      "........................................\n",
      "- Average Score of 5-Fold Cross Validation: 99.85%\n",
      "- Confusion Matrix:\n",
      "[[48879 36417]\n",
      " [    7   140]]\n",
      "- Normalized Confusion Matrix:\n",
      "[[ 0.5731  0.4269]\n",
      " [ 0.0476  0.9524]]\n",
      "- Prediction accuracy of fraudulent transactions (Recall Accuracy): 95.24%\n",
      "\n",
      "LogisticRegression (L2 Regularization)\n",
      "........................................\n",
      "- Average Score of 5-Fold Cross Validation: 99.91%\n",
      "- Confusion Matrix:\n",
      "[[71057 14239]\n",
      " [    8   139]]\n",
      "- Normalized Confusion Matrix:\n",
      "[[ 0.8331  0.1669]\n",
      " [ 0.0544  0.9456]]\n",
      "- Prediction accuracy of fraudulent transactions (Recall Accuracy): 94.56%\n",
      "\n"
     ]
    }
   ],
   "source": [
    "for regularization in zip([\"L1\", \"L2\"], [\"Regularization\"] * 2):\n",
    "    print(\"LogisticRegression (%s %s)\" % (regularization[0], regularization[1]))\n",
    "    \n",
    "    classifier = linear_model.LogisticRegression(C=.001, penalty=regularization[0].lower())\n",
    "    test_using_kfold(5, classifier, X, y)\n",
    "\n",
    "    classifier.fit(mini_X_train, mini_y_train)\n",
    "    predictions = classifier.predict(X_test)\n",
    "\n",
    "    compute_confusion_matrix(classifier, y_test, predictions)\n",
    "    print()"
   ]
  },
  {
   "cell_type": "markdown",
   "metadata": {},
   "source": [
    "<h3> Classifier 2: LinearSVC </h3>"
   ]
  },
  {
   "cell_type": "markdown",
   "metadata": {},
   "source": [
    "<li> Test the mini data in which # of safe transactions and # of fraudulent transactions is equal (The data is balanced) </li>"
   ]
  },
  {
   "cell_type": "code",
   "execution_count": 845,
   "metadata": {},
   "outputs": [
    {
     "name": "stdout",
     "output_type": "stream",
     "text": [
      "LinearSVC\n",
      "........................................\n",
      "- Average Score: 94.00%\n",
      "- Confusion Matrix:\n",
      "[[145   6]\n",
      " [ 14 131]]\n",
      "- Normalized Confusion Matrix:\n",
      "[[ 0.9603  0.0397]\n",
      " [ 0.0966  0.9034]]\n",
      "- Prediction accuracy of fraudulent transactions: 90.34%\n",
      "\n"
     ]
    }
   ],
   "source": [
    "print(\"LinearSVC\")\n",
    "\n",
    "classifier = svm.LinearSVC()\n",
    "test_using_kfold(5, classifier, mini_X, mini_y)\n",
    "\n",
    "classifier.fit(mini_X_train, mini_y_train)\n",
    "mini_predictions = classifier.predict(mini_X_test)\n",
    "\n",
    "compute_confusion_matrix(classifier, mini_y_test, mini_predictions)\n",
    "print()"
   ]
  },
  {
   "cell_type": "markdown",
   "metadata": {},
   "source": [
    "<li> Test the actual data (The data is unbalanced) </li>"
   ]
  },
  {
   "cell_type": "code",
   "execution_count": 846,
   "metadata": {},
   "outputs": [
    {
     "name": "stdout",
     "output_type": "stream",
     "text": [
      "LinearSVC\n",
      "........................................\n",
      "- Average Score: 99.91%\n",
      "- Confusion Matrix:\n",
      "[[82780  2516]\n",
      " [   13   134]]\n",
      "- Normalized Confusion Matrix:\n",
      "[[ 0.9705  0.0295]\n",
      " [ 0.0884  0.9116]]\n",
      "- Prediction accuracy of fraudulent transactions: 91.16%\n",
      "\n"
     ]
    }
   ],
   "source": [
    "print(\"LinearSVC\")\n",
    "\n",
    "classifier = svm.LinearSVC()\n",
    "test_using_kfold(5, classifier, X, y)\n",
    "\n",
    "classifier.fit(mini_X_train, mini_y_train)\n",
    "predictions = classifier.predict(X_test)\n",
    "\n",
    "compute_confusion_matrix(classifier, y_test, predictions)\n",
    "print()"
   ]
  },
  {
   "cell_type": "code",
   "execution_count": null,
   "metadata": {
    "collapsed": true
   },
   "outputs": [],
   "source": []
  }
 ],
 "metadata": {
  "kernelspec": {
   "display_name": "Python 3",
   "language": "python",
   "name": "python3"
  },
  "language_info": {
   "codemirror_mode": {
    "name": "ipython",
    "version": 3
   },
   "file_extension": ".py",
   "mimetype": "text/x-python",
   "name": "python",
   "nbconvert_exporter": "python",
   "pygments_lexer": "ipython3",
   "version": "3.6.2"
  }
 },
 "nbformat": 4,
 "nbformat_minor": 2
}
